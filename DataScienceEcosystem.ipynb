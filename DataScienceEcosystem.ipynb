{
 "cells": [
  {
   "cell_type": "markdown",
   "id": "47771ba4-e04a-433f-93f8-c22355771bd2",
   "metadata": {},
   "source": [
    "# Data Science Tools and Ecosystem"
   ]
  },
  {
   "cell_type": "markdown",
   "id": "6f961ff2-9830-48b6-97dc-1436ad7f37dd",
   "metadata": {},
   "source": [
    "In this notebook, Data Science Tools and Ecosystem are summarized."
   ]
  },
  {
   "cell_type": "markdown",
   "id": "d12f2ceb-59ba-4952-a880-d790017acf91",
   "metadata": {},
   "source": [
    "**Objectives:**\n",
    "* Some popular Languages used in Data Science\n",
    "* Libraries commonly used by Data Scientists  \n",
    "* Open Source Development Environment\n",
    "* Simple Arithmetic Calculation\n",
    "* Converting minutes into hours"
   ]
  },
  {
   "cell_type": "markdown",
   "id": "75a416c9-630f-4ccc-a457-e65d8a990648",
   "metadata": {},
   "source": [
    "Some of the popular languages that Data Scientists use are:  \n",
    "    1. Python  \n",
    "    2. R  \n",
    "    3. SQL  \n",
    "    4. Java  \n",
    "    5. Scala  \n",
    "    6. C++  \n",
    "    7. Julia  "
   ]
  },
  {
   "cell_type": "markdown",
   "id": "36a3687f-d551-4896-b5bc-7407619ac40b",
   "metadata": {},
   "source": [
    "Some of the commonly used libraries used by Data Scientists include:  \n",
    "     1. Pandas  \n",
    "     2. NumPy  \n",
    "     3. Matplotlib  \n",
    "     4. Keras  \n",
    "     5. PyTorch  \n",
    "     6. ggplot2  \n",
    "     7. TensorFlow"
   ]
  },
  {
   "cell_type": "markdown",
   "id": "e1704ce4-d595-4531-9957-3882e4fc5862",
   "metadata": {},
   "source": [
    "| Data Science Tools |\n",
    "| ------ |\n",
    "| JupyterLab |\n",
    "| R-Studio |\n",
    "| Spyder |\n"
   ]
  },
  {
   "cell_type": "markdown",
   "id": "157d7591-1352-47cc-ba9c-c94c226a6de3",
   "metadata": {},
   "source": [
    "### Below are a few examples of evaluating arithmetic expressions in Python"
   ]
  },
  {
   "cell_type": "code",
   "execution_count": 2,
   "id": "de185083-5044-4101-a1aa-3d888267a25c",
   "metadata": {},
   "outputs": [
    {
     "data": {
      "text/plain": [
       "17"
      ]
     },
     "execution_count": 2,
     "metadata": {},
     "output_type": "execute_result"
    }
   ],
   "source": [
    "#This a simple arithmetic expression to mutiply then add integers\n",
    "(3*4)+5"
   ]
  },
  {
   "cell_type": "code",
   "execution_count": 7,
   "id": "1a2eaa8c-d3e2-4390-93dd-a26e69149116",
   "metadata": {},
   "outputs": [
    {
     "name": "stdout",
     "output_type": "stream",
     "text": [
      "Number of hours = 3.3333333333333335\n"
     ]
    }
   ],
   "source": [
    "#This will convert 200 minutes to hours by diving by 60\n",
    "mins = 200\n",
    "hours = mins / 60\n",
    "print (\"Number of hours =\", hours)"
   ]
  },
  {
   "cell_type": "markdown",
   "id": "32987ff8-90f9-4ccd-bc29-f3ddce29d898",
   "metadata": {},
   "source": [
    "## Author\n",
    "Kezia Owusu Nti"
   ]
  }
 ],
 "metadata": {
  "kernelspec": {
   "display_name": "Python",
   "language": "python",
   "name": "conda-env-python-py"
  },
  "language_info": {
   "codemirror_mode": {
    "name": "ipython",
    "version": 3
   },
   "file_extension": ".py",
   "mimetype": "text/x-python",
   "name": "python",
   "nbconvert_exporter": "python",
   "pygments_lexer": "ipython3",
   "version": "3.7.12"
  }
 },
 "nbformat": 4,
 "nbformat_minor": 5
}
